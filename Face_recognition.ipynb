{
 "cells": [
  {
   "cell_type": "code",
   "execution_count": null,
   "id": "332b215a-0aba-4c34-a73a-87c619673a34",
   "metadata": {},
   "outputs": [],
   "source": [
    "# install cmake from https://cmake.org/download/ adding it to the path\n",
    "# install desktop development tools for c++ from https://visualstudio.microsoft.com/visual-cpp-build-tools/  \n",
    "\n",
    "!pip install face_recognition\n",
    "!pip install opencv-python==4.6.0.66\n",
    "!pip install cmake\n",
    "!pip install Image\n",
    "!pip install dlib "
   ]
  },
  {
   "cell_type": "code",
   "execution_count": null,
   "id": "5a9b3a49-d872-4980-b69d-903a2278b494",
   "metadata": {},
   "outputs": [],
   "source": [
    "import dlib\n",
    "from PIL import Image # (PIL = Python Image Library)\n",
    "import face_recognition\n",
    "import numpy as np\n",
    "import sklearn\n",
    "import cv2 # For resizing images\n",
    "import numpy as np"
   ]
  },
  {
   "cell_type": "code",
   "execution_count": null,
   "id": "9e01f832-6498-4c94-880f-fae4037d4fc0",
   "metadata": {},
   "outputs": [],
   "source": [
    "import os\n",
    "import zipfile"
   ]
  },
  {
   "cell_type": "markdown",
   "id": "e2606228-fbf9-4648-8904-36d4aa19e935",
   "metadata": {},
   "source": [
    "Now we point to the folder that contains the zip files<BR>\n",
    "The zip file name is used as the \"label\"<BR>\n",
    "In the following function, first the process attempts to detect faces in each pic, otherwise it would not include the image in the list<BR>\n",
    "Then it crops it to the face itself<BR>\n",
    "Finally it converts the image into numbers (embedding)"
   ]
  },
  {
   "cell_type": "code",
   "execution_count": null,
   "id": "d1910aed-3e00-4bfb-90fb-9f1c499e0111",
   "metadata": {},
   "outputs": [],
   "source": [
    "def load_images_from_zip(directory):\n",
    "    faces = [] # conversion of the original image in an object so that it can be used\n",
    "    face_identities = [] # this will store filenames\n",
    "    face_filenames = []\n",
    "    face_embeddings = [] # numerical representation of a face in a vector space\n",
    "    # Iterate through each file in the directory\n",
    "    for zip_filename in os.listdir(directory):\n",
    "        if zip_filename.endswith(\".zip\"):\n",
    "            zip_path = os.path.join(directory, zip_filename)\n",
    "            print (\"Processing zip file %s\" % zip_path)\n",
    "            with zipfile.ZipFile(zip_path, 'r') as zip_ref:\n",
    "                # Iterate through each file in the zip archive\n",
    "                for zip_info in zip_ref.infolist():\n",
    "                    if zip_info.filename.find(\"__MACOSX\") == -1 and (zip_info.filename.lower().endswith(\".jpg\") or zip_info.filename.lower().endswith(\".jpeg\")): \n",
    "                        ## Read the image data from the zip archive\n",
    "                        print (f\"  Processing file {zip_info.filename}\")\n",
    "                        with zip_ref.open(zip_info) as image_file:\n",
    "                            face = face_recognition.load_image_file(image_file)\n",
    "                            face_locations = face_recognition.face_locations(face)\n",
    "                            if len(face_locations) != 1:\n",
    "                                print (\"Skipping, because could not identify a face\")\n",
    "                                continue\n",
    "                            else:\n",
    "                                print (\"Cropping according to face location\")\n",
    "                                top, right, bottom, left = face_locations[0]\n",
    "                                face = face[top:bottom, left:right, :]\n",
    "                                face = np.array(face)\n",
    "                                face = cv2.resize(face, dsize=(128,128), interpolation=cv2.INTER_CUBIC)\n",
    "                                pil_image = Image.fromarray(face)\n",
    "                                print (face.shape)\n",
    "                                display(pil_image)\n",
    "                                try:\n",
    "                                    embedding = face_recognition.face_encodings(face)[0]\n",
    "                                    print (\"Success getting embedding\")\n",
    "                                except:\n",
    "                                    print (\"Failed getting embedding, skipping\") #for instance, a face is not found\n",
    "                                    continue\n",
    "                                faces.append(face)\n",
    "                                print (face.shape)\n",
    "                                face_identities.append(zip_filename)\n",
    "                                face_filenames.append(zip_info.filename)\n",
    "                                face_embeddings.append(embedding)\n",
    "                                \n",
    "    return faces, face_identities, face_filenames, face_embeddings"
   ]
  },
  {
   "cell_type": "markdown",
   "id": "30c484ba-c7de-42ca-85b4-7509b03bea3c",
   "metadata": {},
   "source": [
    "Now, we call the function either using all pics belonging to the same person or just one from everyone (to see simmilarities between all)."
   ]
  },
  {
   "cell_type": "code",
   "execution_count": null,
   "id": "2afef719-0b96-4f2a-8952-f4a6f5154a1c",
   "metadata": {},
   "outputs": [],
   "source": [
    "allpics=0\n",
    "\n",
    "if allpics==1:\n",
    "    faces, identities, filenames, embeddings = load_images_from_zip(\"pics\") # this will be using all pics\n",
    "else:\n",
    "    faces, identities, filenames, embeddings = load_images_from_zip(\"unique_pics\") # this will be using just one pic from each"
   ]
  },
  {
   "cell_type": "code",
   "execution_count": null,
   "id": "777e9fb0-f34c-4220-86a8-4289fadb3155",
   "metadata": {},
   "outputs": [],
   "source": [
    "print(\"Numbef of pics loaded: \", len(faces))"
   ]
  },
  {
   "cell_type": "markdown",
   "id": "3b4718c2-e4d3-459a-b19f-3516b6a1d816",
   "metadata": {},
   "source": [
    "The following will be used to find nearest neighbors of each face.\n",
    "We choose n_neighbors=2 because the first neighbor is always going to be the image itself"
   ]
  },
  {
   "cell_type": "code",
   "execution_count": null,
   "id": "5aa56963-c1d2-4b39-bb01-cd86dd52f595",
   "metadata": {},
   "outputs": [],
   "source": [
    "num_neighbors=2\n",
    "from sklearn.neighbors import NearestNeighbors\n",
    "nbrs = NearestNeighbors(n_neighbors=num_neighbors, algorithm='brute', metric='cosine').fit(embeddings)\n",
    "nbrs\n",
    "\n",
    "# Brute-force search compares each data point to all other points in the dataset to find nearest neighbours. \n",
    "# While it can be efficient for small datasets, it can become computationally expensive for large datasets due to the number of comparisons required."
   ]
  },
  {
   "cell_type": "markdown",
   "id": "731b3e1d-bda0-4573-9643-4adc23bab235",
   "metadata": {},
   "source": [
    "The following will return two arrays. The first is a nxk array, with the [i,j] entry equaling the distance (cosine) of the i'th example to its j'the neighbor.<BR>\n",
    "The second will be of the same shape nxk, whith the [i,j] entry equaling the index of the j'th neighbor of i.  <BR>\n",
    "If j=0, then we will always have value \"i\" at entry [i,0], because i is closest to itself."
   ]
  },
  {
   "cell_type": "code",
   "execution_count": null,
   "id": "d0aef2fb-6bdc-4c13-995c-8f3b08e1bca9",
   "metadata": {},
   "outputs": [],
   "source": [
    "neighbors = nbrs.kneighbors(embeddings)\n",
    "neighbors\n"
   ]
  },
  {
   "cell_type": "markdown",
   "id": "15d07a05-44b4-4678-9c5d-556cc8adcee4",
   "metadata": {},
   "source": [
    "The values are expressed in terms of distances: if we are using the cosine metric, the results are 1-cosine obtained. <BR>Therefore, the lower the value, the closer the similarity between faces"
   ]
  },
  {
   "cell_type": "code",
   "execution_count": null,
   "id": "afdd4b50-a478-47e5-b85e-6cef1184fc11",
   "metadata": {},
   "outputs": [],
   "source": [
    "distances, indices = neighbors[0][:,1:],neighbors[1][:,1:]\n",
    "\n",
    "n = len(indices)\n",
    "if num_neighbors==2:\n",
    "    n_correct = 0\n",
    "    for i in range(n):\n",
    "        best_match = indices[i,0]\n",
    "        if identities[best_match] == identities[i]: n_correct += 1\n",
    "        print (f\"Query face:  {identities[i]}  (file: {filenames[i]}) \\n best match: {identities[best_match]}  (file: {filenames[best_match]})\\n\")\n",
    "    \n",
    "    if allpics==1: #it does not make sense to calculate it otherwise\n",
    "        acc=n_correct / n\n",
    "        print (\"Accuracy of face_recognition model: {0:.2%}\".format(acc))\n",
    "\n",
    "else:\n",
    "    for i in range(n):\n",
    "        best_match = indices[i,0]\n",
    "        print (f\"Query face:  {identities[i]}  (file: {filenames[i]}) \\n best match: {identities[best_match]}  (file: {filenames[best_match]})\")\n",
    "        if num_neighbors>2:\n",
    "            secondbest_match = indices[i,1]\n",
    "            print (f\"2nd best match: {identities[secondbest_match]}  (file: {filenames[secondbest_match]})\\n\")\n"
   ]
  }
 ],
 "metadata": {
  "kernelspec": {
   "display_name": "Python 3 (ipykernel)",
   "language": "python",
   "name": "python3"
  },
  "language_info": {
   "codemirror_mode": {
    "name": "ipython",
    "version": 3
   },
   "file_extension": ".py",
   "mimetype": "text/x-python",
   "name": "python",
   "nbconvert_exporter": "python",
   "pygments_lexer": "ipython3",
   "version": "3.12.1"
  }
 },
 "nbformat": 4,
 "nbformat_minor": 5
}
